{
  "nbformat": 4,
  "nbformat_minor": 0,
  "metadata": {
    "colab": {
      "provenance": []
    },
    "kernelspec": {
      "name": "python3",
      "display_name": "Python 3"
    },
    "language_info": {
      "name": "python"
    }
  },
  "cells": [
    {
      "cell_type": "code",
      "execution_count": null,
      "metadata": {
        "id": "R8HSzIuL-QW4"
      },
      "outputs": [],
      "source": [
        "import pandas as pd\n",
        "import matplotlib.pyplot as plt\n",
        "import seaborn as sns"
      ]
    },
    {
      "cell_type": "code",
      "source": [
        "#Load the Dataset\n",
        "df = pd.read_csv('dataset.csv')\n",
        "\n",
        "#View the First Few Rows of the Dataset\n",
        "print(\"First 5 rows of the dataset:\")\n",
        "print(df.head())\n",
        "\n",
        "#Check for Missing Values\n",
        "print(\"\\nChecking for missing values:\")\n",
        "missing_values = df.isnull().sum()\n",
        "print(missing_values)\n",
        "\n",
        "#Drop Missing Values (if any)\n",
        "df = df.dropna()  # Drop rows with missing values\n",
        "print(\"\\nData after dropping missing values:\")\n",
        "print(df.head())\n",
        "\n",
        "#Basic Sentiment Distribution Overview\n",
        "print(\"\\nSentiment distribution:\")\n",
        "print(df['sentiment'].value_counts())  # Replace 'sentiment' with the correct column name for sentiment\n",
        "\n",
        "#Visualize Sentiment Distribution\n",
        "plt.figure(figsize=(6, 4))\n",
        "sns.countplot(data=df, x='sentiment')  # Count plot for sentiment distribution\n",
        "plt.title('Sentiment Distribution')\n",
        "plt.xlabel('Sentiment')\n",
        "plt.ylabel('Count')\n",
        "plt.show()\n",
        "\n",
        "#Basic Text Preprocessing\n",
        "# Convert text to lowercase and remove punctuation for initial cleaning\n",
        "df['text'] = df['text'].str.lower()  # Replace 'text' with the correct column for text data\n",
        "df['text'] = df['text'].str.replace('[^\\w\\s]', '')  # Remove punctuation\n",
        "\n",
        "#Preview Cleaned Data\n",
        "print(\"\\nPreview of cleaned text data:\")\n",
        "print(df[['text', 'sentiment']].head())  # Preview text and sentiment columns\n",
        "\n",
        "# Save Cleaned Data\n",
        "df.to_csv('cleaned_dataset.csv', index=False)\n",
        "print(\"\\nCleaned dataset saved as 'cleaned_dataset.csv'.\")"
      ],
      "metadata": {
        "id": "epFJw110-rQX"
      },
      "execution_count": null,
      "outputs": []
    },
    {
      "cell_type": "code",
      "source": [
        "\n"
      ],
      "metadata": {
        "id": "95JUbrOG-rc2"
      },
      "execution_count": null,
      "outputs": []
    }
  ]
}