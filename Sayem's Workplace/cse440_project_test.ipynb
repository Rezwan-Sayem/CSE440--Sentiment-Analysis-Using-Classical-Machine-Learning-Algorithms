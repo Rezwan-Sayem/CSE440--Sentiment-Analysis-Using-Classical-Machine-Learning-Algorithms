{
  "nbformat": 4,
  "nbformat_minor": 0,
  "metadata": {
    "colab": {
      "provenance": []
    },
    "kernelspec": {
      "name": "python3",
      "display_name": "Python 3"
    },
    "language_info": {
      "name": "python"
    }
  },
  "cells": [
    {
      "cell_type": "code",
      "execution_count": 1,
      "metadata": {
        "colab": {
          "base_uri": "https://localhost:8080/"
        },
        "id": "K0H6-B_COI-J",
        "outputId": "00c526b7-12d7-4f9e-ab96-214a20071755"
      },
      "outputs": [
        {
          "output_type": "stream",
          "name": "stdout",
          "text": [
            "Text: I love this movie, it was fantastic!\n",
            "Sentiment: Positive\n",
            "\n",
            "Text: The product is terrible, it broke on the first day.\n",
            "Sentiment: Negative\n",
            "\n",
            "Text: Had a great time with my friends at the party.\n",
            "Sentiment: Positive\n",
            "\n",
            "Text: I am so disappointed with the service.\n",
            "Sentiment: Negative\n",
            "\n",
            "Text: The food was amazing and the staff was very polite.\n",
            "Sentiment: Positive\n",
            "\n",
            "Text: I didn't enjoy the event, it was too crowded and noisy.\n",
            "Sentiment: Positive\n",
            "\n"
          ]
        }
      ],
      "source": [
        "\n",
        "\n",
        "from textblob import TextBlob\n",
        "\n",
        "\n",
        "text_data = [\n",
        "    \"I love this movie, it was fantastic!\",\n",
        "    \"The product is terrible, it broke on the first day.\",\n",
        "    \"Had a great time with my friends at the party.\",\n",
        "    \"I am so disappointed with the service.\",\n",
        "    \"The food was amazing and the staff was very polite.\",\n",
        "    \"I didn't enjoy the event, it was too crowded and noisy.\"\n",
        "]\n",
        "\n",
        "# Function to analyze the sentiment of a sentence\n",
        "def analyze_sentiment(text):\n",
        "    analysis = TextBlob(text)\n",
        "    # Polarity is a float within the range [-1.0, 1.0] where -1 is very negative, 0 is neutral, and 1 is very positive\n",
        "    sentiment = analysis.sentiment.polarity\n",
        "    if sentiment > 0:\n",
        "        return \"Positive\"\n",
        "    elif sentiment < 0:\n",
        "        return \"Negative\"\n",
        "    else:\n",
        "        return \"Neutral\"\n",
        "\n",
        "# Apply the sentiment analysis function to each sentence\n",
        "results = [(text, analyze_sentiment(text)) for text in text_data]\n",
        "\n",
        "#  Output the results\n",
        "for text, sentiment in results:\n",
        "    print(f\"Text: {text}\\nSentiment: {sentiment}\\n\")\n"
      ]
    }
  ]
}