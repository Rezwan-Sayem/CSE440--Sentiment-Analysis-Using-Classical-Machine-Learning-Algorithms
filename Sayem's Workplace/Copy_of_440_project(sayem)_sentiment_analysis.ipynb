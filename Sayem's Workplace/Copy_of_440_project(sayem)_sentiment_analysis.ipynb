{
  "nbformat": 4,
  "nbformat_minor": 0,
  "metadata": {
    "colab": {
      "provenance": []
    },
    "kernelspec": {
      "name": "python3",
      "display_name": "Python 3"
    },
    "language_info": {
      "name": "python"
    }
  },
  "cells": [
    {
      "cell_type": "code",
      "execution_count": 3,
      "metadata": {
        "colab": {
          "base_uri": "https://localhost:8080/"
        },
        "id": "0t4fsRo1vbOW",
        "outputId": "fd12600c-958e-4603-bbb9-df978155aed0"
      },
      "outputs": [
        {
          "output_type": "stream",
          "name": "stdout",
          "text": [
            "Mounted at /content/drive\n"
          ]
        }
      ],
      "source": [
        "from google.colab import drive\n",
        "drive.mount('/content/drive')"
      ]
    },
    {
      "cell_type": "code",
      "source": [
        "!pip install bnlp_toolkit # package for bangla text"
      ],
      "metadata": {
        "colab": {
          "base_uri": "https://localhost:8080/"
        },
        "collapsed": true,
        "id": "yqnZ-YD7v0aq",
        "outputId": "3f116199-8d86-4c16-bdb7-3d479dd65be4"
      },
      "execution_count": 1,
      "outputs": [
        {
          "output_type": "stream",
          "name": "stdout",
          "text": [
            "Collecting bnlp_toolkit\n",
            "  Downloading bnlp_toolkit-4.0.3-py3-none-any.whl.metadata (3.3 kB)\n",
            "Requirement already satisfied: sentencepiece==0.2.0 in /usr/local/lib/python3.10/dist-packages (from bnlp_toolkit) (0.2.0)\n",
            "Collecting gensim==4.3.2 (from bnlp_toolkit)\n",
            "  Downloading gensim-4.3.2-cp310-cp310-manylinux_2_17_x86_64.manylinux2014_x86_64.whl.metadata (8.4 kB)\n",
            "Requirement already satisfied: nltk in /usr/local/lib/python3.10/dist-packages (from bnlp_toolkit) (3.8.1)\n",
            "Requirement already satisfied: numpy in /usr/local/lib/python3.10/dist-packages (from bnlp_toolkit) (1.26.4)\n",
            "Collecting scipy==1.10.1 (from bnlp_toolkit)\n",
            "  Downloading scipy-1.10.1-cp310-cp310-manylinux_2_17_x86_64.manylinux2014_x86_64.whl.metadata (58 kB)\n",
            "\u001b[2K     \u001b[90m━━━━━━━━━━━━━━━━━━━━━━━━━━━━━━━━━━━━━━━━\u001b[0m \u001b[32m58.9/58.9 kB\u001b[0m \u001b[31m4.2 MB/s\u001b[0m eta \u001b[36m0:00:00\u001b[0m\n",
            "\u001b[?25hCollecting sklearn-crfsuite==0.3.6 (from bnlp_toolkit)\n",
            "  Downloading sklearn_crfsuite-0.3.6-py2.py3-none-any.whl.metadata (3.8 kB)\n",
            "Collecting tqdm==4.66.3 (from bnlp_toolkit)\n",
            "  Downloading tqdm-4.66.3-py3-none-any.whl.metadata (57 kB)\n",
            "\u001b[2K     \u001b[90m━━━━━━━━━━━━━━━━━━━━━━━━━━━━━━━━━━━━━━━━\u001b[0m \u001b[32m57.6/57.6 kB\u001b[0m \u001b[31m5.8 MB/s\u001b[0m eta \u001b[36m0:00:00\u001b[0m\n",
            "\u001b[?25hCollecting ftfy==6.2.0 (from bnlp_toolkit)\n",
            "  Downloading ftfy-6.2.0-py3-none-any.whl.metadata (7.3 kB)\n",
            "Collecting emoji==1.7.0 (from bnlp_toolkit)\n",
            "  Downloading emoji-1.7.0.tar.gz (175 kB)\n",
            "\u001b[2K     \u001b[90m━━━━━━━━━━━━━━━━━━━━━━━━━━━━━━━━━━━━━━━━\u001b[0m \u001b[32m175.4/175.4 kB\u001b[0m \u001b[31m12.9 MB/s\u001b[0m eta \u001b[36m0:00:00\u001b[0m\n",
            "\u001b[?25h  Preparing metadata (setup.py) ... \u001b[?25l\u001b[?25hdone\n",
            "Requirement already satisfied: requests in /usr/local/lib/python3.10/dist-packages (from bnlp_toolkit) (2.32.3)\n",
            "Requirement already satisfied: wcwidth<0.3.0,>=0.2.12 in /usr/local/lib/python3.10/dist-packages (from ftfy==6.2.0->bnlp_toolkit) (0.2.13)\n",
            "Requirement already satisfied: smart-open>=1.8.1 in /usr/local/lib/python3.10/dist-packages (from gensim==4.3.2->bnlp_toolkit) (7.0.5)\n",
            "Collecting python-crfsuite>=0.8.3 (from sklearn-crfsuite==0.3.6->bnlp_toolkit)\n",
            "  Downloading python_crfsuite-0.9.11-cp310-cp310-manylinux_2_17_x86_64.manylinux2014_x86_64.whl.metadata (4.3 kB)\n",
            "Requirement already satisfied: six in /usr/local/lib/python3.10/dist-packages (from sklearn-crfsuite==0.3.6->bnlp_toolkit) (1.16.0)\n",
            "Requirement already satisfied: tabulate in /usr/local/lib/python3.10/dist-packages (from sklearn-crfsuite==0.3.6->bnlp_toolkit) (0.9.0)\n",
            "Requirement already satisfied: click in /usr/local/lib/python3.10/dist-packages (from nltk->bnlp_toolkit) (8.1.7)\n",
            "Requirement already satisfied: joblib in /usr/local/lib/python3.10/dist-packages (from nltk->bnlp_toolkit) (1.4.2)\n",
            "Requirement already satisfied: regex>=2021.8.3 in /usr/local/lib/python3.10/dist-packages (from nltk->bnlp_toolkit) (2024.9.11)\n",
            "Requirement already satisfied: charset-normalizer<4,>=2 in /usr/local/lib/python3.10/dist-packages (from requests->bnlp_toolkit) (3.4.0)\n",
            "Requirement already satisfied: idna<4,>=2.5 in /usr/local/lib/python3.10/dist-packages (from requests->bnlp_toolkit) (3.10)\n",
            "Requirement already satisfied: urllib3<3,>=1.21.1 in /usr/local/lib/python3.10/dist-packages (from requests->bnlp_toolkit) (2.2.3)\n",
            "Requirement already satisfied: certifi>=2017.4.17 in /usr/local/lib/python3.10/dist-packages (from requests->bnlp_toolkit) (2024.8.30)\n",
            "Requirement already satisfied: wrapt in /usr/local/lib/python3.10/dist-packages (from smart-open>=1.8.1->gensim==4.3.2->bnlp_toolkit) (1.16.0)\n",
            "Downloading bnlp_toolkit-4.0.3-py3-none-any.whl (22 kB)\n",
            "Downloading ftfy-6.2.0-py3-none-any.whl (54 kB)\n",
            "\u001b[2K   \u001b[90m━━━━━━━━━━━━━━━━━━━━━━━━━━━━━━━━━━━━━━━━\u001b[0m \u001b[32m54.4/54.4 kB\u001b[0m \u001b[31m5.9 MB/s\u001b[0m eta \u001b[36m0:00:00\u001b[0m\n",
            "\u001b[?25hDownloading gensim-4.3.2-cp310-cp310-manylinux_2_17_x86_64.manylinux2014_x86_64.whl (26.5 MB)\n",
            "\u001b[2K   \u001b[90m━━━━━━━━━━━━━━━━━━━━━━━━━━━━━━━━━━━━━━━━\u001b[0m \u001b[32m26.5/26.5 MB\u001b[0m \u001b[31m67.6 MB/s\u001b[0m eta \u001b[36m0:00:00\u001b[0m\n",
            "\u001b[?25hDownloading scipy-1.10.1-cp310-cp310-manylinux_2_17_x86_64.manylinux2014_x86_64.whl (34.4 MB)\n",
            "\u001b[2K   \u001b[90m━━━━━━━━━━━━━━━━━━━━━━━━━━━━━━━━━━━━━━━━\u001b[0m \u001b[32m34.4/34.4 MB\u001b[0m \u001b[31m17.2 MB/s\u001b[0m eta \u001b[36m0:00:00\u001b[0m\n",
            "\u001b[?25hDownloading sklearn_crfsuite-0.3.6-py2.py3-none-any.whl (12 kB)\n",
            "Downloading tqdm-4.66.3-py3-none-any.whl (78 kB)\n",
            "\u001b[2K   \u001b[90m━━━━━━━━━━━━━━━━━━━━━━━━━━━━━━━━━━━━━━━━\u001b[0m \u001b[32m78.4/78.4 kB\u001b[0m \u001b[31m7.0 MB/s\u001b[0m eta \u001b[36m0:00:00\u001b[0m\n",
            "\u001b[?25hDownloading python_crfsuite-0.9.11-cp310-cp310-manylinux_2_17_x86_64.manylinux2014_x86_64.whl (1.2 MB)\n",
            "\u001b[2K   \u001b[90m━━━━━━━━━━━━━━━━━━━━━━━━━━━━━━━━━━━━━━━━\u001b[0m \u001b[32m1.2/1.2 MB\u001b[0m \u001b[31m68.0 MB/s\u001b[0m eta \u001b[36m0:00:00\u001b[0m\n",
            "\u001b[?25hBuilding wheels for collected packages: emoji\n",
            "  Building wheel for emoji (setup.py) ... \u001b[?25l\u001b[?25hdone\n",
            "  Created wheel for emoji: filename=emoji-1.7.0-py3-none-any.whl size=171033 sha256=2beff7278ac5bc8fb06fb210481c5240a92a78bb5c9fa2c782c964cd443b451c\n",
            "  Stored in directory: /root/.cache/pip/wheels/31/8a/8c/315c9e5d7773f74b33d5ed33f075b49c6eaeb7cedbb86e2cf8\n",
            "Successfully built emoji\n",
            "Installing collected packages: emoji, tqdm, scipy, python-crfsuite, ftfy, sklearn-crfsuite, gensim, bnlp_toolkit\n",
            "  Attempting uninstall: tqdm\n",
            "    Found existing installation: tqdm 4.66.5\n",
            "    Uninstalling tqdm-4.66.5:\n",
            "      Successfully uninstalled tqdm-4.66.5\n",
            "  Attempting uninstall: scipy\n",
            "    Found existing installation: scipy 1.13.1\n",
            "    Uninstalling scipy-1.13.1:\n",
            "      Successfully uninstalled scipy-1.13.1\n",
            "  Attempting uninstall: gensim\n",
            "    Found existing installation: gensim 4.3.3\n",
            "    Uninstalling gensim-4.3.3:\n",
            "      Successfully uninstalled gensim-4.3.3\n",
            "Successfully installed bnlp_toolkit-4.0.3 emoji-1.7.0 ftfy-6.2.0 gensim-4.3.2 python-crfsuite-0.9.11 scipy-1.10.1 sklearn-crfsuite-0.3.6 tqdm-4.66.3\n"
          ]
        }
      ]
    },
    {
      "cell_type": "code",
      "source": [
        "stopwords = [\"অতএব\",\"অথচ\",\"অথবা\",\"অনুযায়ী\",\"অনেক\",\"অনেকে\",\"অনেকেই\",\"অন্তত\",\"অন্য\",\"অবধি\",\"অবশ্য\",\"অর্থাত\",\"আই\",\"আগামী\",\"আগে\",\"আগেই\",\"আছে\",\"আজ\",\"আদ্যভাগে\",\"আপনার\",\"আপনি\",\"আবার\",\"আমরা\",\"আমাকে\",\"আমাদের\",\"আমার\",\"আমি\",\"আর\",\"আরও\",\"ই\",\"ইত্যাদি\",\"ইহা\",\"উচিত\",\"উত্তর\",\"উনি\",\"উপর\",\"উপরে\",\"এ\",\"এঁদের\",\"এঁরা\",\"এই\",\"একই\",\"একটি\",\"একবার\",\"একে\",\"এক্\",\"এখন\",\"এখনও\",\"এখানে\",\"এখানেই\",\"এটা\",\"এটাই\",\"এটি\",\"এত\",\"এতটাই\",\"এতে\",\"এদের\",\"এব\",\"এবং\",\"এবার\",\"এমন\",\"এমনকী\",\"এমনি\",\"এর\",\"এরা\",\"এল\",\"এস\",\"এসে\",\"ঐ\",\"ও\",\"ওঁদের\",\"ওঁর\",\"ওঁরা\",\"ওই\",\"ওকে\",\"ওখানে\",\"ওদের\",\"ওর\",\"ওরা\",\"কখনও\",\"কত\",\"কবে\",\"কমনে\",\"কয়েক\",\"কয়েকটি\",\"করছে\",\"করছেন\",\"করতে\",\"করবে\",\"করবেন\",\"করলে\",\"করলেন\",\"করা\",\"করাই\",\"করায়\",\"করার\",\"করি\",\"করিতে\",\"করিয়া\",\"করিয়ে\",\"করে\",\"করেই\",\"করেছিলেন\",\"করেছে\",\"করেছেন\",\"করেন\",\"কাউকে\",\"কাছ\",\"কাছে\",\"কাজ\",\"কাজে\",\"কারও\",\"কারণ\",\"কি\",\"কিংবা\",\"কিছু\",\"কিছুই\",\"কিন্তু\",\"কী\",\"কে\",\"কেউ\",\"কেউই\",\"কেখা\",\"কেন\",\"কোটি\",\"কোন\",\"কোনও\",\"কোনো\",\"ক্ষেত্রে\",\"কয়েক\",\"খুব\",\"গিয়ে\",\"গিয়েছে\",\"গিয়ে\",\"গুলি\",\"গেছে\",\"গেল\",\"গেলে\",\"গোটা\",\"চলে\",\"চান\",\"চায়\",\"চার\",\"চালু\",\"চেয়ে\",\"চেষ্টা\",\"ছাড়া\",\"ছাড়াও\",\"ছিল\",\"ছিলেন\",\"জন\",\"জনকে\",\"জনের\",\"জন্য\",\"জন্যওজে\",\"জানতে\",\"জানা\",\"জানানো\",\"জানায়\",\"জানিয়ে\",\"জানিয়েছে\",\"জে\",\"জ্নজন\",\"টি\",\"ঠিক\",\"তখন\",\"তত\",\"তথা\",\"তবু\",\"তবে\",\"তা\",\"তাঁকে\",\"তাঁদের\",\"তাঁর\",\"তাঁরা\",\"তাঁাহারা\",\"তাই\",\"তাও\",\"তাকে\",\"তাতে\",\"তাদের\",\"তার\",\"তারপর\",\"তারা\",\"তারৈ\",\"তাহলে\",\"তাহা\",\"তাহাতে\",\"তাহার\",\"তিনঐ\",\"তিনি\",\"তিনিও\",\"তুমি\",\"তুলে\",\"তেমন\",\"তো\",\"তোমার\",\"থাকবে\",\"থাকবেন\",\"থাকা\",\"থাকায়\",\"থাকে\",\"থাকেন\",\"থেকে\",\"থেকেই\",\"থেকেও\",\"দিকে\",\"দিতে\",\"দিন\",\"দিয়ে\",\"দিয়েছে\",\"দিয়েছেন\",\"দিলেন\",\"দু\",\"দুই\",\"দুটি\",\"দুটো\",\"দেওয়া\",\"দেওয়ার\",\"দেওয়া\",\"দেখতে\",\"দেখা\",\"দেখে\",\"দেন\",\"দেয়\",\"দ্বারা\",\"ধরা\",\"ধরে\",\"ধামার\",\"নতুন\",\"নয়\",\"না\",\"নাই\",\"নাকি\",\"নাগাদ\",\"নানা\",\"নিজে\",\"নিজেই\",\"নিজেদের\",\"নিজের\",\"নিতে\",\"নিয়ে\",\"নিয়ে\",\"নেই\",\"নেওয়া\",\"নেওয়ার\",\"নেওয়া\",\"নয়\",\"পক্ষে\",\"পর\",\"পরে\",\"পরেই\",\"পরেও\",\"পর্যন্ত\",\"পাওয়া\",\"পাচ\",\"পারি\",\"পারে\",\"পারেন\",\"পি\",\"পেয়ে\",\"পেয়্র্\",\"প্রতি\",\"প্রথম\",\"প্রভৃতি\",\"প্রযন্ত\",\"প্রাথমিক\",\"প্রায়\",\"প্রায়\",\"ফলে\",\"ফিরে\",\"ফের\",\"বক্তব্য\",\"বদলে\",\"বন\",\"বরং\",\"বলতে\",\"বলল\",\"বললেন\",\"বলা\",\"বলে\",\"বলেছেন\",\"বলেন\",\"বসে\",\"বহু\",\"বা\",\"বাদে\",\"বার\",\"বি\",\"বিনা\",\"বিভিন্ন\",\"বিশেষ\",\"বিষয়টি\",\"বেশ\",\"বেশি\",\"ব্যবহার\",\"ব্যাপারে\",\"ভাবে\",\"ভাবেই\",\"মতো\",\"মতোই\",\"মধ্যভাগে\",\"মধ্যে\",\"মধ্যেই\",\"মধ্যেও\",\"মনে\",\"মাত্র\",\"মাধ্যমে\",\"মোট\",\"মোটেই\",\"যখন\",\"যত\",\"যতটা\",\"যথেষ্ট\",\"যদি\",\"যদিও\",\"যা\",\"যাঁর\",\"যাঁরা\",\"যাওয়া\",\"যাওয়ার\",\"যাওয়া\",\"যাকে\",\"যাচ্ছে\",\"যাতে\",\"যাদের\",\"যান\",\"যাবে\",\"যায়\",\"যার\",\"যারা\",\"যিনি\",\"যে\",\"যেখানে\",\"যেতে\",\"যেন\",\"যেমন\",\"র\",\"রকম\",\"রয়েছে\",\"রাখা\",\"রেখে\",\"লক্ষ\",\"শুধু\",\"শুরু\",\"সঙ্গে\",\"সঙ্গেও\",\"সব\",\"সবার\",\"সমস্ত\",\"সম্প্রতি\",\"সহ\",\"সহিত\",\"সাধারণ\",\"সামনে\",\"সি\",\"সুতরাং\",\"সে\",\"সেই\",\"সেখান\",\"সেখানে\",\"সেটা\",\"সেটাই\",\"সেটাও\",\"সেটি\",\"স্পষ্ট\",\"স্বয়ং\",\"হইতে\",\"হইবে\",\"হইয়া\",\"হওয়া\",\"হওয়ায়\",\"হওয়ার\",\"হচ্ছে\",\"হত\",\"হতে\",\"হতেই\",\"হন\",\"হবে\",\"হবেন\",\"হয়\",\"হয়তো\",\"হয়নি\",\"হয়ে\",\"হয়েই\",\"হয়েছিল\",\"হয়েছে\",\"হয়েছেন\",\"হল\",\"হলে\",\"হলেই\",\"হলেও\",\"হলো\",\"হাজার\",\"হিসাবে\",\"হৈলে\",\"হোক\",\"হয়\"]"
      ],
      "metadata": {
        "id": "14SHleHWv-kB"
      },
      "execution_count": 2,
      "outputs": []
    },
    {
      "cell_type": "code",
      "source": [
        "import numpy as np\n",
        "import pandas as pd\n",
        "import matplotlib.pyplot as plt\n",
        "%matplotlib inline\n",
        "import seaborn as sns\n",
        "import re,json,nltk\n",
        "from sklearn.preprocessing import LabelEncoder\n",
        "from sklearn.feature_extraction.text import TfidfVectorizer\n",
        "from sklearn.model_selection import train_test_split\n",
        "from sklearn.metrics import classification_report,accuracy_score,precision_score,recall_score,f1_score\n",
        "from tensorflow.keras.preprocessing.text import Tokenizer\n",
        "path ='/content/drive/MyDrive/cse440/'\n",
        "#stopwords_list = stopwords\n",
        "class color: # Text style\n",
        "   PURPLE = '\\033[95m'\n",
        "   CYAN = '\\033[96m'\n",
        "   DARKCYAN = '\\033[36m'\n",
        "   BLUE = '\\033[94m'\n",
        "   GREEN = '\\033[92m'\n",
        "   YELLOW = '\\033[93m'\n",
        "   RED = '\\033[91m'\n",
        "   BOLD = '\\033[1m'\n",
        "   UNDERLINE = '\\033[4m'\n",
        "   END = '\\033[0m'"
      ],
      "metadata": {
        "id": "1L9ooEB1wDUQ"
      },
      "execution_count": 4,
      "outputs": []
    },
    {
      "cell_type": "code",
      "source": [
        "data = pd.read_csv('/content/sample_data/Dataset/CSE440_sentiment_analysis_dataset.xlsx.csv',encoding='UTF-8')\n",
        "\n",
        "data.head(2)"
      ],
      "metadata": {
        "colab": {
          "base_uri": "https://localhost:8080/",
          "height": 112
        },
        "collapsed": true,
        "id": "KhBCVz6jwUne",
        "outputId": "0ecba51e-1cd4-4793-d70f-46d32d932b51"
      },
      "execution_count": 5,
      "outputs": [
        {
          "output_type": "execute_result",
          "data": {
            "text/plain": [
              "  Checker  Annotaions                                           Comments  \\\n",
              "0     NaN         8.0  এনার সাথে ভালো ব্যবহার করুন। গালাগালি করবেননা।...   \n",
              "1     NaN         8.0  সানি লিওন কোন এক মুভির সুটিং করার জন্য বিমানে ...   \n",
              "\n",
              "  ReactCount  ReplyCount  \n",
              "0        469  15 replies  \n",
              "1        297  54 replies  "
            ],
            "text/html": [
              "\n",
              "  <div id=\"df-f03aa343-d318-450a-ab7d-7b83bccc8f68\" class=\"colab-df-container\">\n",
              "    <div>\n",
              "<style scoped>\n",
              "    .dataframe tbody tr th:only-of-type {\n",
              "        vertical-align: middle;\n",
              "    }\n",
              "\n",
              "    .dataframe tbody tr th {\n",
              "        vertical-align: top;\n",
              "    }\n",
              "\n",
              "    .dataframe thead th {\n",
              "        text-align: right;\n",
              "    }\n",
              "</style>\n",
              "<table border=\"1\" class=\"dataframe\">\n",
              "  <thead>\n",
              "    <tr style=\"text-align: right;\">\n",
              "      <th></th>\n",
              "      <th>Checker</th>\n",
              "      <th>Annotaions</th>\n",
              "      <th>Comments</th>\n",
              "      <th>ReactCount</th>\n",
              "      <th>ReplyCount</th>\n",
              "    </tr>\n",
              "  </thead>\n",
              "  <tbody>\n",
              "    <tr>\n",
              "      <th>0</th>\n",
              "      <td>NaN</td>\n",
              "      <td>8.0</td>\n",
              "      <td>এনার সাথে ভালো ব্যবহার করুন। গালাগালি করবেননা।...</td>\n",
              "      <td>469</td>\n",
              "      <td>15 replies</td>\n",
              "    </tr>\n",
              "    <tr>\n",
              "      <th>1</th>\n",
              "      <td>NaN</td>\n",
              "      <td>8.0</td>\n",
              "      <td>সানি লিওন কোন এক মুভির সুটিং করার জন্য বিমানে ...</td>\n",
              "      <td>297</td>\n",
              "      <td>54 replies</td>\n",
              "    </tr>\n",
              "  </tbody>\n",
              "</table>\n",
              "</div>\n",
              "    <div class=\"colab-df-buttons\">\n",
              "\n",
              "  <div class=\"colab-df-container\">\n",
              "    <button class=\"colab-df-convert\" onclick=\"convertToInteractive('df-f03aa343-d318-450a-ab7d-7b83bccc8f68')\"\n",
              "            title=\"Convert this dataframe to an interactive table.\"\n",
              "            style=\"display:none;\">\n",
              "\n",
              "  <svg xmlns=\"http://www.w3.org/2000/svg\" height=\"24px\" viewBox=\"0 -960 960 960\">\n",
              "    <path d=\"M120-120v-720h720v720H120Zm60-500h600v-160H180v160Zm220 220h160v-160H400v160Zm0 220h160v-160H400v160ZM180-400h160v-160H180v160Zm440 0h160v-160H620v160ZM180-180h160v-160H180v160Zm440 0h160v-160H620v160Z\"/>\n",
              "  </svg>\n",
              "    </button>\n",
              "\n",
              "  <style>\n",
              "    .colab-df-container {\n",
              "      display:flex;\n",
              "      gap: 12px;\n",
              "    }\n",
              "\n",
              "    .colab-df-convert {\n",
              "      background-color: #E8F0FE;\n",
              "      border: none;\n",
              "      border-radius: 50%;\n",
              "      cursor: pointer;\n",
              "      display: none;\n",
              "      fill: #1967D2;\n",
              "      height: 32px;\n",
              "      padding: 0 0 0 0;\n",
              "      width: 32px;\n",
              "    }\n",
              "\n",
              "    .colab-df-convert:hover {\n",
              "      background-color: #E2EBFA;\n",
              "      box-shadow: 0px 1px 2px rgba(60, 64, 67, 0.3), 0px 1px 3px 1px rgba(60, 64, 67, 0.15);\n",
              "      fill: #174EA6;\n",
              "    }\n",
              "\n",
              "    .colab-df-buttons div {\n",
              "      margin-bottom: 4px;\n",
              "    }\n",
              "\n",
              "    [theme=dark] .colab-df-convert {\n",
              "      background-color: #3B4455;\n",
              "      fill: #D2E3FC;\n",
              "    }\n",
              "\n",
              "    [theme=dark] .colab-df-convert:hover {\n",
              "      background-color: #434B5C;\n",
              "      box-shadow: 0px 1px 3px 1px rgba(0, 0, 0, 0.15);\n",
              "      filter: drop-shadow(0px 1px 2px rgba(0, 0, 0, 0.3));\n",
              "      fill: #FFFFFF;\n",
              "    }\n",
              "  </style>\n",
              "\n",
              "    <script>\n",
              "      const buttonEl =\n",
              "        document.querySelector('#df-f03aa343-d318-450a-ab7d-7b83bccc8f68 button.colab-df-convert');\n",
              "      buttonEl.style.display =\n",
              "        google.colab.kernel.accessAllowed ? 'block' : 'none';\n",
              "\n",
              "      async function convertToInteractive(key) {\n",
              "        const element = document.querySelector('#df-f03aa343-d318-450a-ab7d-7b83bccc8f68');\n",
              "        const dataTable =\n",
              "          await google.colab.kernel.invokeFunction('convertToInteractive',\n",
              "                                                    [key], {});\n",
              "        if (!dataTable) return;\n",
              "\n",
              "        const docLinkHtml = 'Like what you see? Visit the ' +\n",
              "          '<a target=\"_blank\" href=https://colab.research.google.com/notebooks/data_table.ipynb>data table notebook</a>'\n",
              "          + ' to learn more about interactive tables.';\n",
              "        element.innerHTML = '';\n",
              "        dataTable['output_type'] = 'display_data';\n",
              "        await google.colab.output.renderOutput(dataTable, element);\n",
              "        const docLink = document.createElement('div');\n",
              "        docLink.innerHTML = docLinkHtml;\n",
              "        element.appendChild(docLink);\n",
              "      }\n",
              "    </script>\n",
              "  </div>\n",
              "\n",
              "\n",
              "<div id=\"df-cb2a9f30-0789-4176-ac39-ed69616ed1f2\">\n",
              "  <button class=\"colab-df-quickchart\" onclick=\"quickchart('df-cb2a9f30-0789-4176-ac39-ed69616ed1f2')\"\n",
              "            title=\"Suggest charts\"\n",
              "            style=\"display:none;\">\n",
              "\n",
              "<svg xmlns=\"http://www.w3.org/2000/svg\" height=\"24px\"viewBox=\"0 0 24 24\"\n",
              "     width=\"24px\">\n",
              "    <g>\n",
              "        <path d=\"M19 3H5c-1.1 0-2 .9-2 2v14c0 1.1.9 2 2 2h14c1.1 0 2-.9 2-2V5c0-1.1-.9-2-2-2zM9 17H7v-7h2v7zm4 0h-2V7h2v10zm4 0h-2v-4h2v4z\"/>\n",
              "    </g>\n",
              "</svg>\n",
              "  </button>\n",
              "\n",
              "<style>\n",
              "  .colab-df-quickchart {\n",
              "      --bg-color: #E8F0FE;\n",
              "      --fill-color: #1967D2;\n",
              "      --hover-bg-color: #E2EBFA;\n",
              "      --hover-fill-color: #174EA6;\n",
              "      --disabled-fill-color: #AAA;\n",
              "      --disabled-bg-color: #DDD;\n",
              "  }\n",
              "\n",
              "  [theme=dark] .colab-df-quickchart {\n",
              "      --bg-color: #3B4455;\n",
              "      --fill-color: #D2E3FC;\n",
              "      --hover-bg-color: #434B5C;\n",
              "      --hover-fill-color: #FFFFFF;\n",
              "      --disabled-bg-color: #3B4455;\n",
              "      --disabled-fill-color: #666;\n",
              "  }\n",
              "\n",
              "  .colab-df-quickchart {\n",
              "    background-color: var(--bg-color);\n",
              "    border: none;\n",
              "    border-radius: 50%;\n",
              "    cursor: pointer;\n",
              "    display: none;\n",
              "    fill: var(--fill-color);\n",
              "    height: 32px;\n",
              "    padding: 0;\n",
              "    width: 32px;\n",
              "  }\n",
              "\n",
              "  .colab-df-quickchart:hover {\n",
              "    background-color: var(--hover-bg-color);\n",
              "    box-shadow: 0 1px 2px rgba(60, 64, 67, 0.3), 0 1px 3px 1px rgba(60, 64, 67, 0.15);\n",
              "    fill: var(--button-hover-fill-color);\n",
              "  }\n",
              "\n",
              "  .colab-df-quickchart-complete:disabled,\n",
              "  .colab-df-quickchart-complete:disabled:hover {\n",
              "    background-color: var(--disabled-bg-color);\n",
              "    fill: var(--disabled-fill-color);\n",
              "    box-shadow: none;\n",
              "  }\n",
              "\n",
              "  .colab-df-spinner {\n",
              "    border: 2px solid var(--fill-color);\n",
              "    border-color: transparent;\n",
              "    border-bottom-color: var(--fill-color);\n",
              "    animation:\n",
              "      spin 1s steps(1) infinite;\n",
              "  }\n",
              "\n",
              "  @keyframes spin {\n",
              "    0% {\n",
              "      border-color: transparent;\n",
              "      border-bottom-color: var(--fill-color);\n",
              "      border-left-color: var(--fill-color);\n",
              "    }\n",
              "    20% {\n",
              "      border-color: transparent;\n",
              "      border-left-color: var(--fill-color);\n",
              "      border-top-color: var(--fill-color);\n",
              "    }\n",
              "    30% {\n",
              "      border-color: transparent;\n",
              "      border-left-color: var(--fill-color);\n",
              "      border-top-color: var(--fill-color);\n",
              "      border-right-color: var(--fill-color);\n",
              "    }\n",
              "    40% {\n",
              "      border-color: transparent;\n",
              "      border-right-color: var(--fill-color);\n",
              "      border-top-color: var(--fill-color);\n",
              "    }\n",
              "    60% {\n",
              "      border-color: transparent;\n",
              "      border-right-color: var(--fill-color);\n",
              "    }\n",
              "    80% {\n",
              "      border-color: transparent;\n",
              "      border-right-color: var(--fill-color);\n",
              "      border-bottom-color: var(--fill-color);\n",
              "    }\n",
              "    90% {\n",
              "      border-color: transparent;\n",
              "      border-bottom-color: var(--fill-color);\n",
              "    }\n",
              "  }\n",
              "</style>\n",
              "\n",
              "  <script>\n",
              "    async function quickchart(key) {\n",
              "      const quickchartButtonEl =\n",
              "        document.querySelector('#' + key + ' button');\n",
              "      quickchartButtonEl.disabled = true;  // To prevent multiple clicks.\n",
              "      quickchartButtonEl.classList.add('colab-df-spinner');\n",
              "      try {\n",
              "        const charts = await google.colab.kernel.invokeFunction(\n",
              "            'suggestCharts', [key], {});\n",
              "      } catch (error) {\n",
              "        console.error('Error during call to suggestCharts:', error);\n",
              "      }\n",
              "      quickchartButtonEl.classList.remove('colab-df-spinner');\n",
              "      quickchartButtonEl.classList.add('colab-df-quickchart-complete');\n",
              "    }\n",
              "    (() => {\n",
              "      let quickchartButtonEl =\n",
              "        document.querySelector('#df-cb2a9f30-0789-4176-ac39-ed69616ed1f2 button');\n",
              "      quickchartButtonEl.style.display =\n",
              "        google.colab.kernel.accessAllowed ? 'block' : 'none';\n",
              "    })();\n",
              "  </script>\n",
              "</div>\n",
              "\n",
              "    </div>\n",
              "  </div>\n"
            ],
            "application/vnd.google.colaboratory.intrinsic+json": {
              "type": "dataframe",
              "variable_name": "data",
              "summary": "{\n  \"name\": \"data\",\n  \"rows\": 11021,\n  \"fields\": [\n    {\n      \"column\": \"Checker\",\n      \"properties\": {\n        \"dtype\": \"category\",\n        \"num_unique_values\": 11,\n        \"samples\": [\n          \"10\",\n          \"3\",\n          \"6\"\n        ],\n        \"semantic_type\": \"\",\n        \"description\": \"\"\n      }\n    },\n    {\n      \"column\": \"Annotaions\",\n      \"properties\": {\n        \"dtype\": \"number\",\n        \"std\": 114.63592389041528,\n        \"min\": 1.0,\n        \"max\": 11006.0,\n        \"num_unique_values\": 17,\n        \"samples\": [\n          8.0,\n          7.0,\n          3.0\n        ],\n        \"semantic_type\": \"\",\n        \"description\": \"\"\n      }\n    },\n    {\n      \"column\": \"Comments\",\n      \"properties\": {\n        \"dtype\": \"string\",\n        \"num_unique_values\": 10552,\n        \"samples\": [\n          \"\\u09b0\\u09be\\u099c\\u09aa\\u09a5\\u09c7 \\u0986\\u09a8\\u09cd\\u09a6\\u09cb\\u09b2\\u09a8 \\u09b8\\u0982\\u0997\\u09cd\\u09b0\\u09be\\u09ae \\u0995\\u09b0\\u09c7 \\u09a6\\u09b2\\u0995\\u09c7 \\u0995\\u09cd\\u09b7\\u09ae\\u09a4\\u09be\\u09df \\u0986\\u09a8\\u09c7 \\u09b0\\u09be\\u099c\\u09a8\\u09c0\\u09a4\\u09bf\\u09ac\\u09bf\\u09a6\\u09b0\\u09be, \\u09ab\\u09df\\u09a6\\u09be \\u09b2\\u09c1\\u099f\\u09c7 \\u0986\\u09ae\\u09b2\\u09be\\u09b0\\u09be\\u0964 \\u09b6\\u09b0\\u09c0\\u09af\\u09bc\\u09a4\\u09aa\\u09c1\\u09b0\\u09c7\\u09b0 \\u09aa\\u09be\\u09b2\\u0982 \\u098f\\u09b0- OC \\u09ac\\u09b0\\u09bf\\u09b6\\u09be\\u09b2\\u09c7\\u09b0  UNO \\u098f\\u09b0 \\u0998\\u099f\\u09a8\\u09be \\u098f \\u09af\\u09c7\\u09a8 \\u098f\\u0995 \\u0998\\u09cb\\u09b0 \\\"\\u0985\\u09b6\\u09a8\\u09bf \\u09b8\\u0982\\u0995\\u09c7\\u09a4\\\"\",\n          \"\\u09aa\\u09cd\\u09b0\\u09bf\\u09df \\u09b6\\u09be\\u09df\\u09c7\\u0996 \\u0995\\u09cd\\u09b7\\u09ae\\u09a4\\u09be\\u09b6\\u09bf\\u09a8 \\u09a6\\u09b2\\u09c7\\u09b0 \\u09ac\\u0995\\u09cd\\u09a4\\u09ac\\u09cd\\u09af \\u09ad\\u09be\\u09b2\\u09cb \\u09a6\\u09c7\\u0996\\u09be \\u09af\\u09be\\u099a\\u09cd\\u099b\\u09c7 \\u09a8\\u09be \\u098f\\u0995\\u099f\\u09c1 \\u09ac\\u09c1\\u099d\\u09c7 \\u09b6\\u09cb\\u09a8\\u09c7 \\u0995\\u09be\\u099c \\u0995\\u09b0\\u09be\\u09b0 \\u0985\\u09a8\\u09c1\\u09b0\\u09cb\\u09a7 \\u09b0\\u0987\\u09b2,, \\u0986\\u09aa\\u09a8\\u09be\\u0995\\u09c7 \\u098f \\u09ac\\u09be\\u0982\\u09b2\\u09be\\u09b0 \\u09b9\\u09be\\u099c\\u09be\\u09b0 \\u09a4\\u09be\\u0993\\u09b9\\u09bf\\u09a6\\u09c0 \\u099c\\u09a8\\u09a4\\u09be \\u0985\\u09a8\\u09cd\\u09a4\\u09b0 \\u09a5\\u09c7\\u0995\\u09c7 \\u09ad\\u09be\\u09b2\\u09cb\\u09ac\\u09be\\u09b8\\u09c7 \\u0986\\u09aa\\u09a8\\u09be\\u09b0 \\u09ae\\u09a4\\u09cb \\u09b0\\u09be\\u09b9\\u09ac\\u09b0 \\u0986\\u09ae\\u09be\\u09a6\\u09c7\\u09b0 \\u09aa\\u09cd\\u09b0\\u09df\\u09cb\\u099c\\u09a8,, \\u0986\\u09b2\\u09cd\\u09b2\\u09be\\u09b9\\u09b0 \\u0995\\u09be\\u099b\\u09c7 \\u0986\\u09aa\\u09a8\\u09be\\u09b0 \\u09a6\\u09c0\\u09b0\\u09cd\\u0998 \\u09a8\\u09c7\\u0995 \\u09b9\\u09be\\u09df\\u09be\\u09a4 \\u0995\\u09be\\u09ae\\u09a8\\u09be \\u0995\\u09b0\\u09bf \\u0986\\u09b2\\u09cd\\u09b2\\u09be\\u09b9\\u09b0 \\u0995\\u09be\\u099b\\u09c7,,\",\n          \"\\u098f\\u0987 \\u09ad\\u09be\\u09ac\\u09c7\\u0987 \\u09a5\\u09be\\u0995\\u09c7\\u09a8 \\u0986\\u099c\\u09c0\\u09ac\\u09a8\\u0964 \\u09b8\\u09be\\u09a5\\u09c7 \\u0987\\u09b8\\u09b2\\u09be\\u09ae \\u099f\\u09be \\u0997\\u09cd\\u09b0\\u09b9\\u09a8 \\u0995\\u09b0\\u09b2\\u09c7 \\u0996\\u09c1\\u09ac \\u09ad\\u09be\\u09b2\\u09cb \\u09b9\\u09ac\\u09c7\\u0964\"\n        ],\n        \"semantic_type\": \"\",\n        \"description\": \"\"\n      }\n    },\n    {\n      \"column\": \"ReactCount\",\n      \"properties\": {\n        \"dtype\": \"category\",\n        \"num_unique_values\": 312,\n        \"samples\": [\n          \"234\",\n          \"4\",\n          \"51\"\n        ],\n        \"semantic_type\": \"\",\n        \"description\": \"\"\n      }\n    },\n    {\n      \"column\": \"ReplyCount\",\n      \"properties\": {\n        \"dtype\": \"category\",\n        \"num_unique_values\": 87,\n        \"samples\": [\n          \"63 replies\",\n          \"15 replies\",\n          \"22 replies\"\n        ],\n        \"semantic_type\": \"\",\n        \"description\": \"\"\n      }\n    }\n  ]\n}"
            }
          },
          "metadata": {},
          "execution_count": 5
        }
      ]
    },
    {
      "cell_type": "code",
      "source": [
        "data = pd.read_csv('/content/sample_data/Dataset/CSE440_sentiment_analysis_dataset.xlsx.csv', encoding='utf-8')\n"
      ],
      "metadata": {
        "id": "3EHzTCppD51O"
      },
      "execution_count": 12,
      "outputs": []
    },
    {
      "cell_type": "code",
      "source": [
        "data = pd.read_csv('/content/sample_data/Dataset/CSE440_sentiment_analysis_dataset.xlsx.csv', encoding='UTF-8')\n",
        "\n",
        "# Display the first few rows to inspect column names and structure\n",
        "print(data.head())\n",
        "\n",
        "# Display the column names to see if there is a sentiment label column\n",
        "print(data.columns)"
      ],
      "metadata": {
        "colab": {
          "base_uri": "https://localhost:8080/"
        },
        "id": "0ofPZb-fEUT9",
        "outputId": "e6f24ec7-b30a-48e3-bb18-8a9f259ef817"
      },
      "execution_count": 14,
      "outputs": [
        {
          "output_type": "stream",
          "name": "stdout",
          "text": [
            "  Checker  Annotaions                                           Comments  \\\n",
            "0     NaN         8.0  এনার সাথে ভালো ব্যবহার করুন। গালাগালি করবেননা।...   \n",
            "1     NaN         8.0  সানি লিওন কোন এক মুভির সুটিং করার জন্য বিমানে ...   \n",
            "2     NaN         8.0  কে তুমি বৎস ধরিয়া মৎস বেচিয়া গঞ্জে অকুল কুঞ্...   \n",
            "3     NaN         8.0       নেইমারের প্যান্ট কেনার জন্য টাকা তোলা হচ্ছে!   \n",
            "4     NaN         8.0   ব্রা ফ্যানদের অনুরোধ করছি লজ্জা থাকলে বাহিরে ...   \n",
            "\n",
            "  ReactCount  ReplyCount  \n",
            "0        469  15 replies  \n",
            "1        297  54 replies  \n",
            "2         40     1 reply  \n",
            "3        304  38 replies  \n",
            "4         42  16 replies  \n",
            "Index(['Checker', 'Annotaions', 'Comments', 'ReactCount', 'ReplyCount'], dtype='object')\n"
          ]
        }
      ]
    },
    {
      "cell_type": "markdown",
      "source": [
        "Dataset Preparation"
      ],
      "metadata": {
        "id": "-CJG2w3Bwn3W"
      }
    },
    {
      "cell_type": "code",
      "source": [
        "from textblob import TextBlob\n",
        "import pandas as pd\n",
        "\n",
        "# Load the dataset\n",
        "data = pd.read_csv('/content/sample_data/Dataset/CSE440_sentiment_analysis_dataset.xlsx.csv', encoding='UTF-8')\n",
        "\n",
        "# Fill NaN values in 'Comments' column with an empty string\n",
        "data['Comments'] = data['Comments'].fillna(\"\")\n",
        "\n",
        "# Define a function to label comments as Positive, Negative, or Neutral\n",
        "def get_sentiment(comment):\n",
        "    # Check if the comment is empty\n",
        "    if not isinstance(comment, str) or comment.strip() == \"\":\n",
        "        return 'Neutral'  # Default to Neutral for empty comments\n",
        "    analysis = TextBlob(comment)\n",
        "    # Set a threshold to determine the sentiment polarity\n",
        "    if analysis.sentiment.polarity > 0:\n",
        "        return 'Positive'\n",
        "    elif analysis.sentiment.polarity == 0:\n",
        "        return 'Neutral'\n",
        "    else:\n",
        "        return 'Negative'\n",
        "\n",
        "# Apply the function to each comment\n",
        "data['Sentiment'] = data['Comments'].apply(get_sentiment)\n",
        "\n",
        "# Check the distribution of sentiment labels\n",
        "print(\"Total comments:\", len(data),\n",
        "      \"\\nTotal Positive comments:\", len(data[data['Sentiment'] == 'Positive']),\n",
        "      \"\\nTotal Negative comments:\", len(data[data['Sentiment'] == 'Negative']),\n",
        "      \"\\nTotal Neutral comments:\", len(data[data['Sentiment'] == 'Neutral']))\n"
      ],
      "metadata": {
        "id": "1oGWm6aTwode",
        "colab": {
          "base_uri": "https://localhost:8080/"
        },
        "outputId": "ac1ec34e-cf38-4048-8f92-1e36e476464a"
      },
      "execution_count": 16,
      "outputs": [
        {
          "output_type": "stream",
          "name": "stdout",
          "text": [
            "Total comments: 11021 \n",
            "Total Positive comments: 11 \n",
            "Total Negative comments: 4 \n",
            "Total Neutral comments: 11006\n"
          ]
        }
      ]
    },
    {
      "cell_type": "code",
      "source": [
        "data.columns"
      ],
      "metadata": {
        "id": "Pe6FyttPw7HK",
        "colab": {
          "base_uri": "https://localhost:8080/"
        },
        "outputId": "d565a629-23c9-4bf8-db4d-a06978be89b5"
      },
      "execution_count": 17,
      "outputs": [
        {
          "output_type": "execute_result",
          "data": {
            "text/plain": [
              "Index(['Checker', 'Annotaions', 'Comments', 'ReactCount', 'ReplyCount',\n",
              "       'Sentiment'],\n",
              "      dtype='object')"
            ]
          },
          "metadata": {},
          "execution_count": 17
        }
      ]
    },
    {
      "cell_type": "code",
      "source": [
        "# Print some unprocessed reviews with their sentiment labels\n",
        "sample_data = [10, 1500, 2500, 6500, 9001, 11000]\n",
        "for i in sample_data:\n",
        "    print(data.Comments[i], '\\n', 'Sentiment:-- ', data.Sentiment[i], '\\n')\n"
      ],
      "metadata": {
        "id": "sAkh9tjUw9_R",
        "colab": {
          "base_uri": "https://localhost:8080/"
        },
        "outputId": "6c2be7d2-2287-44ce-c190-9fc7936c07ed"
      },
      "execution_count": 19,
      "outputs": [
        {
          "output_type": "stream",
          "name": "stdout",
          "text": [
            "ছোট ভাই, তোমার চোখের চশমাটা কি ঠিক আছে..??? \n",
            " Sentiment:--  Neutral \n",
            "\n",
            "ভাই,,,তোমার গানগুলো  আজকে অনেকগুলো শুনেছি,এক কথায় বলতে গেলে  অসাধারণ।।ফেইসবুকে এসে এইরকম পাগলামি না করে,আশা করি গানের দিকে মনোযোগী হবা।। \n",
            " Sentiment:--  Neutral \n",
            "\n",
            "ব্যারিস্টার ময়নুল কি যেন বলেছিল? \n",
            " Sentiment:--  Neutral \n",
            "\n",
            "বর্ষা আপুর জামা পরে আপনি আমাদের এপ্রিল ফুল বানাইলেন \n",
            " Sentiment:--  Neutral \n",
            "\n",
            "এগুলারে বিমানের উপ্রে তুলে পু*কি মারার ধরকার।।যাতে পড়ে যাওয়ার ভয়ে পু*কি মারা দিতেই থাকে \n",
            " Sentiment:--  Neutral \n",
            "\n",
            "যেদিন অন্যের প্রতি ভালোবাসা কমিয়ে মানুষ নিজেকে ভালোবাসতে শুরু করবে,,, \n",
            " Sentiment:--  Neutral \n",
            "\n"
          ]
        }
      ]
    },
    {
      "cell_type": "code",
      "source": [
        "import seaborn as sns\n",
        "import matplotlib.pyplot as plt\n",
        "\n",
        "# Plot the distribution of sentiment classes\n",
        "sns.set(font_scale=1.4)\n",
        "data['Sentiment'].value_counts().plot(kind='barh', figsize=(9, 3))\n",
        "plt.xlabel(\"Number of Comments\", labelpad=12)\n",
        "plt.ylabel(\"Sentiment Class\", labelpad=12)\n",
        "plt.yticks(rotation=45)\n",
        "plt.title(\"Dataset Distribution\", y=1.02)\n",
        "plt.show()\n"
      ],
      "metadata": {
        "id": "1kv5QcIvxHpr",
        "colab": {
          "base_uri": "https://localhost:8080/",
          "height": 371
        },
        "outputId": "eca9e2d7-5488-44ab-98c5-0af8f17eac7f"
      },
      "execution_count": 21,
      "outputs": [
        {
          "output_type": "display_data",
          "data": {
            "text/plain": [
              "<Figure size 900x300 with 1 Axes>"
            ],
            "image/png": "[encoded data removed]"
          },
          "metadata": {}
        }
      ]
    },
    {
      "cell_type": "markdown",
      "source": [
        "# **Data Cleaning**"
      ],
      "metadata": {
        "id": "rnQ9U1-1xO4Y"
      }
    },
    {
      "cell_type": "code",
      "source": [
        "# Data cleaning function\n",
        "def process_comments(Comment):\n",
        "    Comment = re.sub('[^\\u0980-\\u09FF]',' ',str(Comment)) #removing unnecessary punctuation\n",
        "    return Comment"
      ],
      "metadata": {
        "id": "wDs7m11FxS1W"
      },
      "execution_count": 22,
      "outputs": []
    },
    {
      "cell_type": "code",
      "source": [
        "# Apply the function into the dataframe\n",
        "data['cleaned'] = data['Comments'].apply(process_comments)\n",
        "\n",
        "# Print some cleaned reviews from the dataset\n",
        "sample_data = [10, 100, 25, 854, 966, 1500, 1589, 1700, 2000, 2500, 4000, 4500]\n",
        "for i in sample_data:\n",
        "    print('Original:\\n', data.Comments[i], '\\nCleaned:\\n', data.cleaned[i], '\\n', 'Sentiment:-- ', data.Sentiment[i], '\\n')\n"
      ],
      "metadata": {
        "id": "52QENouPxWM1",
        "colab": {
          "base_uri": "https://localhost:8080/"
        },
        "outputId": "9e21be16-5efc-4304-8037-7564103da357"
      },
      "execution_count": 24,
      "outputs": [
        {
          "output_type": "stream",
          "name": "stdout",
          "text": [
            "Original:\n",
            " ছোট ভাই, তোমার চোখের চশমাটা কি ঠিক আছে..??? \n",
            "Cleaned:\n",
            " ছোট ভাই  তোমার চোখের চশমাটা কি ঠিক আছে      \n",
            " Sentiment:--  Neutral \n",
            "\n",
            "Original:\n",
            " সবাই ধীরে সুস্থে গালাগালি করুন । ধাক্কা ধাক্কি করবেন না । সামাজিক দূরত্ব বজায় রেখে গালা - গালি করুন । উওেজিত হয়ে গালা - গালি করতে গিয়ে বানান ভুল করবেন । আমরা কমেন্ট করতে আসি না , শুধুমাত্র পড়তে আসি । তাই এমন ভাবে গালা - গালি করুন , যাতে আমাদের পড়ত… \n",
            "Cleaned:\n",
            " সবাই ধীরে সুস্থে গালাগালি করুন   ধাক্কা ধাক্কি করবেন না   সামাজিক দূরত্ব বজায় রেখে গালা   গালি করুন   উওেজিত হয়ে গালা   গালি করতে গিয়ে বানান ভুল করবেন   আমরা কমেন্ট করতে আসি না   শুধুমাত্র পড়তে আসি   তাই এমন ভাবে গালা   গালি করুন   যাতে আমাদের পড়ত  \n",
            " Sentiment:--  Neutral \n",
            "\n",
            "Original:\n",
            " নেইমারের জন্য প্যান্ট কেনার টাকা তোলা হবে। সবাই সাহায্যের হাত বাড়াই।পাশে থাকি \n",
            "Cleaned:\n",
            " নেইমারের জন্য প্যান্ট কেনার টাকা তোলা হবে  সবাই সাহায্যের হাত বাড়াই পাশে থাকি \n",
            " Sentiment:--  Neutral \n",
            "\n",
            "Original:\n",
            " বউ কমেন্ট দেখতে পায় তাই কিছু লিখতে পারি না \n",
            "Cleaned:\n",
            " বউ কমেন্ট দেখতে পায় তাই কিছু লিখতে পারি না \n",
            " Sentiment:--  Neutral \n",
            "\n",
            "Original:\n",
            " এই কারনেই সকালে ভূমিকম্পন সৃষ্টি হইছিলো \n",
            "Cleaned:\n",
            " এই কারনেই সকালে ভূমিকম্পন সৃষ্টি হইছিলো \n",
            " Sentiment:--  Neutral \n",
            "\n",
            "Original:\n",
            " ভাই,,,তোমার গানগুলো  আজকে অনেকগুলো শুনেছি,এক কথায় বলতে গেলে  অসাধারণ।।ফেইসবুকে এসে এইরকম পাগলামি না করে,আশা করি গানের দিকে মনোযোগী হবা।। \n",
            "Cleaned:\n",
            " ভাই   তোমার গানগুলো  আজকে অনেকগুলো শুনেছি এক কথায় বলতে গেলে  অসাধারণ  ফেইসবুকে এসে এইরকম পাগলামি না করে আশা করি গানের দিকে মনোযোগী হবা   \n",
            " Sentiment:--  Neutral \n",
            "\n",
            "Original:\n",
            " কবে জানি ভাতিজা আসার ডেটটাও পিছিয়ে যায় \n",
            "Cleaned:\n",
            " কবে জানি ভাতিজা আসার ডেটটাও পিছিয়ে যায় \n",
            " Sentiment:--  Neutral \n",
            "\n",
            "Original:\n",
            " ভালো হতে টাকা লাগেনা \n",
            "Cleaned:\n",
            " ভালো হতে টাকা লাগেনা \n",
            " Sentiment:--  Neutral \n",
            "\n",
            "Original:\n",
            " যদি তর ডাক সুনে কেও না আসে \n",
            "Cleaned:\n",
            " যদি তর ডাক সুনে কেও না আসে \n",
            " Sentiment:--  Neutral \n",
            "\n",
            "Original:\n",
            " ব্যারিস্টার ময়নুল কি যেন বলেছিল? \n",
            "Cleaned:\n",
            " ব্যারিস্টার ময়নুল কি যেন বলেছিল  \n",
            " Sentiment:--  Neutral \n",
            "\n",
            "Original:\n",
            " তুমি ত রিলেশন এ ঢুকো আর বের হও তোমার এত কিসের চিন্তা?? \n",
            "Cleaned:\n",
            " তুমি ত রিলেশন এ ঢুকো আর বের হও তোমার এত কিসের চিন্তা   \n",
            " Sentiment:--  Neutral \n",
            "\n",
            "Original:\n",
            " আমিও পস্তুতি নিচ্ছি \n",
            "Cleaned:\n",
            " আমিও পস্তুতি নিচ্ছি \n",
            " Sentiment:--  Neutral \n",
            "\n"
          ]
        }
      ]
    },
    {
      "cell_type": "markdown",
      "source": [
        "Remove Low length data"
      ],
      "metadata": {
        "id": "AjTW77Q7xbMy"
      }
    },
    {
      "cell_type": "code",
      "source": [
        "# Length of each Reveiws\n",
        "data['length'] = data['cleaned'].apply(lambda x:len(x.split()))\n",
        "# Remove the reviews with least words\n",
        "dataset = data.loc[data.length>1]\n",
        "dataset = dataset.reset_index(drop = True)\n",
        "print(\"After Cleaning:\",\"\\nRemoved {} Small Reviews\".format(len(data)-len(dataset)),\n",
        "      \"\\nTotal Reviews:\",len(dataset))"
      ],
      "metadata": {
        "id": "CEcBdCpNxbqw",
        "colab": {
          "base_uri": "https://localhost:8080/"
        },
        "outputId": "af02a0ba-bc69-475e-bc90-269722342d32"
      },
      "execution_count": 25,
      "outputs": [
        {
          "output_type": "stream",
          "name": "stdout",
          "text": [
            "After Cleaning: \n",
            "Removed 148 Small Reviews \n",
            "Total Reviews: 10873\n"
          ]
        }
      ]
    },
    {
      "cell_type": "markdown",
      "source": [
        "Dataset Summary"
      ],
      "metadata": {
        "id": "1T8fkQQgxffV"
      }
    },
    {
      "cell_type": "code",
      "source": [
        "import numpy as np\n",
        "\n",
        "def data_summary(dataset):\n",
        "    \"\"\"\n",
        "    This function will print the summary of the reviews and words distribution in the dataset.\n",
        "\n",
        "    Args:\n",
        "        dataset: list of cleaned sentences\n",
        "\n",
        "    Returns:\n",
        "        Number of documents per class: int\n",
        "        Number of words per class: int\n",
        "        Number of unique words per class: int\n",
        "    \"\"\"\n",
        "    documents = []\n",
        "    words = []\n",
        "    u_words = []\n",
        "    total_u_words = [word.strip().lower() for t in list(dataset.cleaned) for word in t.strip().split()]\n",
        "    class_label = [k for k, v in dataset.Sentiment.value_counts().to_dict().items()]\n",
        "\n",
        "    # Find word list\n",
        "    for label in class_label:\n",
        "        word_list = [word.strip().lower() for t in list(dataset[dataset.Sentiment == label].cleaned) for word in t.strip().split()]\n",
        "        counts = dict()\n",
        "        for word in word_list:\n",
        "            counts[word] = counts.get(word, 0) + 1\n",
        "\n",
        "        # Sort the dictionary of word list\n",
        "        ordered = sorted(counts.items(), key=lambda item: item[1], reverse=True)\n",
        "\n",
        "        # Documents per class\n",
        "        documents.append(len(list(dataset[dataset.Sentiment == label].cleaned)))\n",
        "\n",
        "        # Total words per class\n",
        "        words.append(len(word_list))\n",
        "\n",
        "        # Unique words per class\n",
        "        u_words.append(len(np.unique(word_list)))\n",
        "\n",
        "        print(\"\\nClass Name : \", label)\n",
        "        print(\"Number of Documents:{}\".format(len(list(dataset[dataset.Sentiment == label].cleaned))))\n",
        "        print(\"Number of Words:{}\".format(len(word_list)))\n",
        "        print(\"Number of Unique Words:{}\".format(len(np.unique(word_list))))\n",
        "        print(\"Most Frequent Words:\\n\")\n",
        "        for k, v in ordered[:10]:\n",
        "            print(\"{}\\t{}\".format(k, v))\n",
        "\n",
        "    print(\"Total Number of Unique Words:{}\".format(len(np.unique(total_u_words))))\n",
        "\n",
        "    return documents, words, u_words, class_label\n",
        "\n",
        "# Call the function\n",
        "documents, words, u_words, class_names = data_summary(data)\n"
      ],
      "metadata": {
        "id": "JgRATRmOxhQA",
        "colab": {
          "base_uri": "https://localhost:8080/"
        },
        "outputId": "60bdfae9-fc9c-49ee-eb58-a88d04040e86"
      },
      "execution_count": 27,
      "outputs": [
        {
          "output_type": "stream",
          "name": "stdout",
          "text": [
            "\n",
            "Class Name :  Neutral\n",
            "Number of Documents:11006\n",
            "Number of Words:149874\n",
            "Number of Unique Words:22868\n",
            "Most Frequent Words:\n",
            "\n",
            "না\t2806\n",
            "করে\t1495\n",
            "আর\t1230\n",
            "এই\t1151\n",
            "কি\t1069\n",
            "আপনার\t962\n",
            "জন্য\t773\n",
            "থেকে\t733\n",
            "হবে\t668\n",
            "ও\t665\n",
            "\n",
            "Class Name :  Positive\n",
            "Number of Documents:11\n",
            "Number of Words:165\n",
            "Number of Unique Words:140\n",
            "Most Frequent Words:\n",
            "\n",
            "আপনি\t5\n",
            "না\t5\n",
            "হবে\t3\n",
            "কে\t3\n",
            "নাস্তিক\t3\n",
            "কম\t2\n",
            "ভুলে\t2\n",
            "রিয়্যাক্ট\t2\n",
            "আমাদের\t2\n",
            "চেতনা\t2\n",
            "\n",
            "Class Name :  Negative\n",
            "Number of Documents:4\n",
            "Number of Words:87\n",
            "Number of Unique Words:83\n",
            "Most Frequent Words:\n",
            "\n",
            "ভারতীয়\t3\n",
            "কে\t2\n",
            "হয়\t2\n",
            "প্রথমে\t1\n",
            "ভাবছি\t1\n",
            "আমার\t1\n",
            "নাম\t1\n",
            "বললো\t1\n",
            "পুরাই\t1\n",
            "হয়ে\t1\n",
            "Total Number of Unique Words:22887\n"
          ]
        }
      ]
    }
  ]
}